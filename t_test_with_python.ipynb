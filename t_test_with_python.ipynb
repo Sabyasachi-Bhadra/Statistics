{
 "cells": [
  {
   "cell_type": "code",
   "execution_count": 1,
   "metadata": {},
   "outputs": [],
   "source": [
    "import os\n",
    "import logging\n",
    "if os.path.exists('file.log'):\n",
    "    os.remove('file.log')"
   ]
  },
  {
   "cell_type": "code",
   "execution_count": 2,
   "metadata": {},
   "outputs": [],
   "source": [
    "logging.basicConfig(filename = 'file.log', level = logging.INFO, format = '%(asctime)s - %(message)s')"
   ]
  },
  {
   "cell_type": "code",
   "execution_count": 3,
   "metadata": {},
   "outputs": [
    {
     "name": "stderr",
     "output_type": "stream",
     "text": [
      "2021-07-08 19:09:12,730 - logging has started!!\n"
     ]
    }
   ],
   "source": [
    "console_log = logging.StreamHandler()\n",
    "console_log.setLevel(logging.DEBUG)\n",
    "format = logging.Formatter('%(asctime)s - %(message)s')\n",
    "console_log.setFormatter(format)\n",
    "logging.getLogger('').addHandler(console_log)\n",
    "logging.info('logging has started!!')"
   ]
  },
  {
   "cell_type": "markdown",
   "metadata": {},
   "source": [
    "### What is a t-test?\n",
    "- A t-test is a type of inferential statics which is used to determine if there is a significant differece between the means of two groups wich may be related to certain features.\n",
    "\n",
    "### t-test has two types:\n",
    "1. one sampled t-test \n",
    "2. two-sampled t-test\n",
    "\n",
    "### When shoud we use t-test instead of z-test?\n",
    "- We perform a One-Sample t-test when we want to compare a sample mean with the population mean. The difference from the Z Test is that we do not have the information on Population Variance here. We use the sample standard deviation instead of population standard deviation in this case.\n",
    "\n",
    "### Calculating a t-test requires three key data values. \n",
    "- The difference between the mean values from each data set (called the mean difference), \n",
    "- The standard deviation of each group, \n",
    "- and the number of data values of each group.\n",
    "\n",
    "### t-test assumption\n",
    "- The first assumption made regarding t-tests concerns the scale of measurement. The assumption for a t-test is that the scale of measurement applied to the data collected follows a continuous or ordinal scale, such as the scores for an IQ test.\n",
    "- The second assumption made is that of a simple random sample, that the data is collected from a representative, randomly selected portion of the total population.\n",
    "- The third assumption is the data, when plotted, results in a normal distribution, bell-shaped distribution curve.\n",
    "- The final assumption is the homogeneity of variance. Homogeneous, or equal, variance exists when the standard deviations of samples are approximately equal.\n",
    "\n",
    "### one-sample t-test with python :\n",
    "- This test will tell us whether mean value of the sample and the population are different.  \n",
    "<img src = \"https://dataanalyze.files.wordpress.com/2017/05/t-test.jpg?w=700\"/>"
   ]
  },
  {
   "cell_type": "markdown",
   "metadata": {},
   "source": [
    "### Let's try to solve this example :"
   ]
  },
  {
   "cell_type": "code",
   "execution_count": 4,
   "metadata": {},
   "outputs": [
    {
     "name": "stdout",
     "output_type": "stream",
     "text": [
      "[26 35 55 45 22 36 28 46 46 45 24 53 29 48 58 52 46 36 20 22 32 50 34 21\n",
      " 45 58 52 59 23 38 52 58 31 37 36 21 27 27 36 42 36 54 52 46 20 51 33 20\n",
      " 30 35 54 53 54 50 34 22 24 59 38 29 33 52 52 34 25 33 44 45 46 37 20 40\n",
      " 58 32 20 59 50 53 58 30 22 28 31 56 29 44 27 56 54 33 40 48 26 53 43 50\n",
      " 22 46 38 44]\n"
     ]
    }
   ],
   "source": [
    "import numpy as np\n",
    "student_age = np.random.randint(20,60,100)\n",
    "print(student_age)"
   ]
  },
  {
   "cell_type": "code",
   "execution_count": 5,
   "metadata": {},
   "outputs": [
    {
     "name": "stdout",
     "output_type": "stream",
     "text": [
      "39.56\n"
     ]
    }
   ],
   "source": [
    "## let's check the population mean\n",
    "student_ages_mean = np.mean(student_age)\n",
    "print(student_ages_mean)"
   ]
  },
  {
   "cell_type": "code",
   "execution_count": 6,
   "metadata": {},
   "outputs": [
    {
     "name": "stdout",
     "output_type": "stream",
     "text": [
      "[21 45 52 52 27 21 52 58 31 43 28 25 54 33 54 46 27 24 22 45]\n"
     ]
    }
   ],
   "source": [
    "## let's take a sample size of 20\n",
    "sample_size = 20\n",
    "student_age_sample = np.random.choice(student_age,sample_size)\n",
    "print(student_age_sample)"
   ]
  },
  {
   "cell_type": "code",
   "execution_count": 7,
   "metadata": {},
   "outputs": [],
   "source": [
    "from scipy.stats import ttest_1samp"
   ]
  },
  {
   "cell_type": "code",
   "execution_count": 8,
   "metadata": {},
   "outputs": [
    {
     "name": "stdout",
     "output_type": "stream",
     "text": [
      "0.6027887363632888\n"
     ]
    }
   ],
   "source": [
    "ttest,p_value = ttest_1samp(student_age_sample,student_ages_mean)\n",
    "print(p_value)"
   ]
  },
  {
   "cell_type": "code",
   "execution_count": 9,
   "metadata": {},
   "outputs": [
    {
     "name": "stdout",
     "output_type": "stream",
     "text": [
      "we are accepting the null hypothesis\n"
     ]
    }
   ],
   "source": [
    "if p_value < 0.05:\n",
    "    print('we are rejecting the null hypothesis')\n",
    "else:\n",
    "    print('we are accepting the null hypothesis')"
   ]
  },
  {
   "cell_type": "markdown",
   "metadata": {},
   "source": [
    "### Another example:\n",
    "- let's consider the ages of students in a university and in a class A"
   ]
  },
  {
   "cell_type": "code",
   "execution_count": 10,
   "metadata": {},
   "outputs": [],
   "source": [
    "import numpy as np\n",
    "import pandas as pd\n",
    "import scipy.stats as stats\n",
    "import math\n",
    "np.random.seed(6)"
   ]
  },
  {
   "cell_type": "code",
   "execution_count": 11,
   "metadata": {},
   "outputs": [],
   "source": [
    "## let's consuder a poisson distribution of students in college\n",
    "university_student_age = stats.poisson.rvs(loc=21, mu=35, size=1500)\n",
    "classA_student_age = stats.poisson.rvs(loc=21, mu=30, size = 60)"
   ]
  },
  {
   "cell_type": "code",
   "execution_count": 12,
   "metadata": {},
   "outputs": [],
   "source": [
    "ttest, p_val = stats.ttest_1samp(a=classA_student_age, popmean=university_student_age.mean())"
   ]
  },
  {
   "cell_type": "code",
   "execution_count": 13,
   "metadata": {},
   "outputs": [
    {
     "data": {
      "text/plain": [
       "1.139027071016194e-13"
      ]
     },
     "execution_count": 13,
     "metadata": {},
     "output_type": "execute_result"
    }
   ],
   "source": [
    "p_val"
   ]
  },
  {
   "cell_type": "code",
   "execution_count": 14,
   "metadata": {},
   "outputs": [
    {
     "name": "stdout",
     "output_type": "stream",
     "text": [
      "we are rejecting the null hypothesis and there is a difference in the mean ages\n"
     ]
    }
   ],
   "source": [
    "if p_val < 0.05:\n",
    "    print('we are rejecting the null hypothesis and there is a difference in the mean ages')\n",
    "else:\n",
    "    print('we are accepting the null hypothesis and there is no difference in the mean ages')"
   ]
  },
  {
   "cell_type": "markdown",
   "metadata": {},
   "source": [
    "### two sample t-test with python :\n",
    "- The independent samples t-test or two sample t-test compares the mean of two independent groups to determine whether there is statistical evidence that the associated population means are significantly different. The independent samples t test is a parametric test. This test is aka 'Independent t test'.\n",
    "\n",
    "<img src = \"https://lh3.googleusercontent.com/proxy/PSDJf5YxIWCvtm8nm9dut9CswHWclUUZCZohAh_qb-Gwc8jcjsZ36uyWRrboYKZxkO1-pmGUuhWlo1i5yaxZ-wMYLcbrywCVJRoET4EmSG7mm1DTmikpL9q0ChxZlc0QFXytGt14sO7YIFpo\"/>\n",
    "\n",
    "### Try to solve this example : \n",
    "- let's consider two different age groups from class A and class B respectively in a university"
   ]
  },
  {
   "cell_type": "code",
   "execution_count": 15,
   "metadata": {},
   "outputs": [],
   "source": [
    "np.random.seed(12)\n",
    "classA_sample_ages = stats.poisson.rvs(loc=21, mu=35, size=100)\n",
    "classB_sample_ages = stats.poisson.rvs(loc=21, mu=33, size=100)"
   ]
  },
  {
   "cell_type": "code",
   "execution_count": 16,
   "metadata": {},
   "outputs": [],
   "source": [
    "t_test, p_val = stats.ttest_ind(a=classA_sample_ages, b=classB_sample_ages, equal_var=False)"
   ]
  },
  {
   "cell_type": "code",
   "execution_count": 17,
   "metadata": {},
   "outputs": [
    {
     "data": {
      "text/plain": [
       "0.0024619372175293764"
      ]
     },
     "execution_count": 17,
     "metadata": {},
     "output_type": "execute_result"
    }
   ],
   "source": [
    "p_val"
   ]
  },
  {
   "cell_type": "code",
   "execution_count": 18,
   "metadata": {},
   "outputs": [
    {
     "name": "stdout",
     "output_type": "stream",
     "text": [
      "we are rejecting the null hypothesis and there is a difference in the mean ages\n"
     ]
    }
   ],
   "source": [
    "if p_val < 0.05:\n",
    "    print('we are rejecting the null hypothesis and there is a difference in the mean ages')\n",
    "else:\n",
    "    print('we are accepting the null hypothesis and there is no difference in the mean ages')"
   ]
  },
  {
   "cell_type": "markdown",
   "metadata": {},
   "source": [
    "### Paired(correlated) t-test with python :\n",
    "- When you want to check how different samples from the same group are, you should apply a paired t-test\n",
    "\n",
    "### let's consider this example\n",
    "- consider the weight of 15 kids from a school. "
   ]
  },
  {
   "cell_type": "code",
   "execution_count": 19,
   "metadata": {},
   "outputs": [
    {
     "data": {
      "text/plain": [
       "numpy.ndarray"
      ]
     },
     "execution_count": 19,
     "metadata": {},
     "output_type": "execute_result"
    }
   ],
   "source": [
    "weight1 = np.random.randint(25, 45, 15)\n",
    "weight2 = weight1+stats.norm.rvs(scale=5, loc=-1.25, size=15)\n",
    "type(weight2)"
   ]
  },
  {
   "cell_type": "code",
   "execution_count": 20,
   "metadata": {},
   "outputs": [
    {
     "data": {
      "text/html": [
       "<div>\n",
       "<style scoped>\n",
       "    .dataframe tbody tr th:only-of-type {\n",
       "        vertical-align: middle;\n",
       "    }\n",
       "\n",
       "    .dataframe tbody tr th {\n",
       "        vertical-align: top;\n",
       "    }\n",
       "\n",
       "    .dataframe thead th {\n",
       "        text-align: right;\n",
       "    }\n",
       "</style>\n",
       "<table border=\"1\" class=\"dataframe\">\n",
       "  <thead>\n",
       "    <tr style=\"text-align: right;\">\n",
       "      <th></th>\n",
       "      <th>weight1</th>\n",
       "      <th>weight2</th>\n",
       "      <th>weight_change</th>\n",
       "    </tr>\n",
       "  </thead>\n",
       "  <tbody>\n",
       "    <tr>\n",
       "      <th>0</th>\n",
       "      <td>29</td>\n",
       "      <td>32.786698</td>\n",
       "      <td>-3.786698</td>\n",
       "    </tr>\n",
       "    <tr>\n",
       "      <th>1</th>\n",
       "      <td>26</td>\n",
       "      <td>20.573677</td>\n",
       "      <td>5.426323</td>\n",
       "    </tr>\n",
       "    <tr>\n",
       "      <th>2</th>\n",
       "      <td>41</td>\n",
       "      <td>45.477648</td>\n",
       "      <td>-4.477648</td>\n",
       "    </tr>\n",
       "    <tr>\n",
       "      <th>3</th>\n",
       "      <td>33</td>\n",
       "      <td>30.167476</td>\n",
       "      <td>2.832524</td>\n",
       "    </tr>\n",
       "    <tr>\n",
       "      <th>4</th>\n",
       "      <td>32</td>\n",
       "      <td>29.460238</td>\n",
       "      <td>2.539762</td>\n",
       "    </tr>\n",
       "    <tr>\n",
       "      <th>5</th>\n",
       "      <td>29</td>\n",
       "      <td>32.449797</td>\n",
       "      <td>-3.449797</td>\n",
       "    </tr>\n",
       "    <tr>\n",
       "      <th>6</th>\n",
       "      <td>29</td>\n",
       "      <td>20.679992</td>\n",
       "      <td>8.320008</td>\n",
       "    </tr>\n",
       "    <tr>\n",
       "      <th>7</th>\n",
       "      <td>34</td>\n",
       "      <td>37.211611</td>\n",
       "      <td>-3.211611</td>\n",
       "    </tr>\n",
       "    <tr>\n",
       "      <th>8</th>\n",
       "      <td>44</td>\n",
       "      <td>40.779525</td>\n",
       "      <td>3.220475</td>\n",
       "    </tr>\n",
       "    <tr>\n",
       "      <th>9</th>\n",
       "      <td>35</td>\n",
       "      <td>36.755625</td>\n",
       "      <td>-1.755625</td>\n",
       "    </tr>\n",
       "    <tr>\n",
       "      <th>10</th>\n",
       "      <td>42</td>\n",
       "      <td>43.810023</td>\n",
       "      <td>-1.810023</td>\n",
       "    </tr>\n",
       "    <tr>\n",
       "      <th>11</th>\n",
       "      <td>38</td>\n",
       "      <td>27.089416</td>\n",
       "      <td>10.910584</td>\n",
       "    </tr>\n",
       "    <tr>\n",
       "      <th>12</th>\n",
       "      <td>31</td>\n",
       "      <td>26.286104</td>\n",
       "      <td>4.713896</td>\n",
       "    </tr>\n",
       "    <tr>\n",
       "      <th>13</th>\n",
       "      <td>28</td>\n",
       "      <td>38.710854</td>\n",
       "      <td>-10.710854</td>\n",
       "    </tr>\n",
       "    <tr>\n",
       "      <th>14</th>\n",
       "      <td>34</td>\n",
       "      <td>33.767964</td>\n",
       "      <td>0.232036</td>\n",
       "    </tr>\n",
       "  </tbody>\n",
       "</table>\n",
       "</div>"
      ],
      "text/plain": [
       "    weight1    weight2  weight_change\n",
       "0        29  32.786698      -3.786698\n",
       "1        26  20.573677       5.426323\n",
       "2        41  45.477648      -4.477648\n",
       "3        33  30.167476       2.832524\n",
       "4        32  29.460238       2.539762\n",
       "5        29  32.449797      -3.449797\n",
       "6        29  20.679992       8.320008\n",
       "7        34  37.211611      -3.211611\n",
       "8        44  40.779525       3.220475\n",
       "9        35  36.755625      -1.755625\n",
       "10       42  43.810023      -1.810023\n",
       "11       38  27.089416      10.910584\n",
       "12       31  26.286104       4.713896\n",
       "13       28  38.710854     -10.710854\n",
       "14       34  33.767964       0.232036"
      ]
     },
     "execution_count": 20,
     "metadata": {},
     "output_type": "execute_result"
    }
   ],
   "source": [
    "weight_df = pd.DataFrame({'weight1': weight1,\n",
    "                         'weight2': weight2,\n",
    "                         'weight_change' : weight1 - weight2})\n",
    "weight_df"
   ]
  },
  {
   "cell_type": "code",
   "execution_count": 21,
   "metadata": {},
   "outputs": [],
   "source": [
    "t_test, p_val = stats.ttest_rel(a=weight1, b=weight2)"
   ]
  },
  {
   "cell_type": "code",
   "execution_count": 22,
   "metadata": {},
   "outputs": [
    {
     "data": {
      "text/plain": [
       "0.6840273996859949"
      ]
     },
     "execution_count": 22,
     "metadata": {},
     "output_type": "execute_result"
    }
   ],
   "source": [
    "p_val"
   ]
  },
  {
   "cell_type": "code",
   "execution_count": 23,
   "metadata": {},
   "outputs": [
    {
     "name": "stdout",
     "output_type": "stream",
     "text": [
      "we are accepting the null hypothesis and there is no difference in the mean ages\n"
     ]
    }
   ],
   "source": [
    "if p_val < 0.05:\n",
    "    print('we are rejecting the null hypothesis and there is a difference in the mean ages')\n",
    "else:\n",
    "    print('we are accepting the null hypothesis and there is no difference in the mean ages')"
   ]
  },
  {
   "cell_type": "markdown",
   "metadata": {},
   "source": [
    "### let's take a deep dive and calculate two sample t-test for independent samples in detail:\n",
    "- calculation for t-test of two independent samples as follows :\n",
    " - t = observed difference between two sample means / standard error of the difference between the means \n",
    " - or, t = (mean(data1) - mean(data2)) / sed, where the standard error 'sed' will be calculated as follows:\n",
    " - sed = sqrt(se1^2 + se2^2), where se1 and se2 are the standard errors from the first and second data set respectively.\n",
    " - The standard error can be calculated as follows:\n",
    " - se = std / sqrt(n)"
   ]
  },
  {
   "cell_type": "markdown",
   "metadata": {},
   "source": [
    "### let's consider this examples"
   ]
  },
  {
   "cell_type": "code",
   "execution_count": 24,
   "metadata": {},
   "outputs": [],
   "source": [
    "from math import sqrt\n",
    "from numpy.random import seed\n",
    "from numpy.random import randn\n",
    "from numpy import mean\n",
    "from numpy import std\n",
    "from scipy.stats import sem\n",
    "from scipy.stats import t\n",
    "import scipy.stats as stats\n",
    "import seaborn as sns"
   ]
  },
  {
   "cell_type": "code",
   "execution_count": 25,
   "metadata": {},
   "outputs": [],
   "source": [
    "\n",
    "def independent_t_test(data1, data2, alpha):\n",
    "    \n",
    "    try:\n",
    "        logging.info('calculating means...')\n",
    "        mean1, mean2 = np.mean(data1), np.mean(data2)\n",
    "        logging.info('mean1 : '+str(mean1)+'; mean2 : '+str(mean2))\n",
    "        \n",
    "        logging.info('calculating the standard deviation...')\n",
    "        std1, std2 = std(data1, ddof=1), std(data2, ddof=1)\n",
    "        logging.info('std1 : '+str(std1)+'; std2 : '+str(std2))\n",
    "        \n",
    "        logging.info('calculating standard errors...')\n",
    "        n1, n2 = len(data1), len(data2)\n",
    "        se1, se2 = std1/sqrt(n1), std2/sqrt(n2)\n",
    "        logging.info('se1 : '+str(se1)+'; se2 : '+str(se2))\n",
    "        \n",
    "        logging.info('standard error on the difference between the samples...')\n",
    "        sed = sqrt(se1**2 + se2**2)\n",
    "        logging.info('sed : '+str(sed))\n",
    "        \n",
    "        logging.info('calculate the t statistic...')\n",
    "        t_stat = (mean1 - mean2)/sed\n",
    "        logging.info('t_stat : '+str(t_stat))\n",
    "        \n",
    "        logging.info('degrees of freedom...')\n",
    "        df = n1 + n2 - 2\n",
    "        logging.info('df : '+str(df))\n",
    "        \n",
    "        logging.info('calculating the critical value...')\n",
    "        cv = t.ppf(1.0 - alpha, df)\n",
    "        logging.info('cv : '+str(cv))\n",
    "        \n",
    "        logging.info('calculating the p-value...')\n",
    "        p = (1-t.cdf(abs(t_stat), df)) * 2.0\n",
    "        logging.info('p : '+str(p))\n",
    "        \n",
    "        return t_stat, df, cv, p\n",
    "    \n",
    "    except Exception as err:\n",
    "        logging.info('an error has occured!!')\n",
    "        logging.error(str(err))\n",
    "        "
   ]
  },
  {
   "cell_type": "markdown",
   "metadata": {},
   "source": [
    "- We will perform the t-test on some synthetic data samples. We will have a expectation that the test will reject the null hypothesis and will find significant difference between the samples"
   ]
  },
  {
   "cell_type": "code",
   "execution_count": 26,
   "metadata": {},
   "outputs": [
    {
     "name": "stderr",
     "output_type": "stream",
     "text": [
      "2021-07-08 19:09:17,801 - calculating means...\n",
      "2021-07-08 19:09:17,804 - mean1 : 50.30291426037849; mean2 : 51.763973888101\n",
      "2021-07-08 19:09:17,807 - calculating the standard deviation...\n",
      "2021-07-08 19:09:17,810 - std1 : 4.4480773365620605; std2 : 4.6834501758393845\n",
      "2021-07-08 19:09:17,813 - calculating standard errors...\n",
      "2021-07-08 19:09:17,815 - se1 : 0.4448077336562061; se2 : 0.4683450175839384\n",
      "2021-07-08 19:09:17,817 - standard error on the difference between the samples...\n",
      "2021-07-08 19:09:17,819 - sed : 0.6459109655487124\n",
      "2021-07-08 19:09:17,821 - calculate the t statistic...\n",
      "2021-07-08 19:09:17,823 - t_stat : -2.2620139704259556\n",
      "2021-07-08 19:09:17,824 - degrees of freedom...\n",
      "2021-07-08 19:09:17,826 - df : 198\n",
      "2021-07-08 19:09:17,830 - calculating the critical value...\n",
      "2021-07-08 19:09:17,832 - cv : 1.6525857836172075\n",
      "2021-07-08 19:09:17,834 - calculating the p-value...\n",
      "2021-07-08 19:09:17,837 - p : 0.024782819014639745\n"
     ]
    },
    {
     "name": "stdout",
     "output_type": "stream",
     "text": [
      "Reject the null hypothesis that the means are  not equal.\n",
      "Reject the null hypothesis that the means are not equal.\n"
     ]
    }
   ],
   "source": [
    "# seed the random number generator\n",
    "seed(1)\n",
    "# generate two independent samples\n",
    "sample_data1 = 5 * randn(100) + 50\n",
    "sample_data2 = 5 * randn(100) + 51\n",
    "\n",
    "alpha = 0.05\n",
    "\n",
    "t_stat, df, cv, p = independent_t_test(sample_data1, sample_data2, alpha)\n",
    "\n",
    "## interpret via critical value\n",
    "if abs(t_stat) <= cv:\n",
    "\tprint('Accept null hypothesis that the means are equal.')\n",
    "else:\n",
    "\tprint('Reject the null hypothesis that the means are  not equal.')\n",
    "# interpret via p-value\n",
    "if p > alpha:\n",
    "\tprint('Accept null hypothesis that the means are equal.')\n",
    "else:\n",
    "\tprint('Reject the null hypothesis that the means are not equal.')"
   ]
  },
  {
   "cell_type": "code",
   "execution_count": null,
   "metadata": {},
   "outputs": [],
   "source": []
  },
  {
   "cell_type": "code",
   "execution_count": null,
   "metadata": {},
   "outputs": [],
   "source": []
  }
 ],
 "metadata": {
  "kernelspec": {
   "display_name": "Python 3",
   "language": "python",
   "name": "python3"
  },
  "language_info": {
   "codemirror_mode": {
    "name": "ipython",
    "version": 3
   },
   "file_extension": ".py",
   "mimetype": "text/x-python",
   "name": "python",
   "nbconvert_exporter": "python",
   "pygments_lexer": "ipython3",
   "version": "3.8.5"
  }
 },
 "nbformat": 4,
 "nbformat_minor": 4
}
